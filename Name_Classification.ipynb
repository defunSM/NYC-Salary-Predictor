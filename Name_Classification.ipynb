{
 "cells": [
  {
   "cell_type": "code",
   "execution_count": null,
   "metadata": {},
   "outputs": [],
   "source": []
  },
  {
   "cell_type": "markdown",
   "metadata": {},
   "source": [
    "## Name Classification Model\n",
    "We want to feature engineer a new feature to determine which names are men and women. Using this we want to segment the data and look for homogeneity in our NYC Salary Data Set.\n",
    "\n",
    "We will use NLTK to help with classifying full names into either man or woman. The dataset we will use is from https://www.ssa.gov/oact/babynames/limits.html, we will specifically be looking at NY State Names since we will be using this classifier to identify the gender of people working in NYC."
   ]
  }
 ],
 "metadata": {
  "language_info": {
   "name": "python"
  },
  "orig_nbformat": 4
 },
 "nbformat": 4,
 "nbformat_minor": 2
}

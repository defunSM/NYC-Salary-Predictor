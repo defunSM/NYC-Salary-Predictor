{
 "cells": [
  {
   "cell_type": "markdown",
   "metadata": {},
   "source": [
    "## Importing libraries and Data Set"
   ]
  },
  {
   "cell_type": "code",
   "execution_count": 37,
   "metadata": {},
   "outputs": [],
   "source": []
  },
  {
   "cell_type": "code",
   "execution_count": 25,
   "metadata": {},
   "outputs": [
    {
     "name": "stdout",
     "output_type": "stream",
     "text": [
      "Requirement already satisfied: pandas in c:\\programdata\\anaconda3\\lib\\site-packages (1.0.1)\n",
      "Requirement already satisfied: numpy>=1.13.3 in c:\\programdata\\anaconda3\\lib\\site-packages (from pandas) (1.18.1)\n",
      "Requirement already satisfied: python-dateutil>=2.6.1 in c:\\programdata\\anaconda3\\lib\\site-packages (from pandas) (2.8.1)\n",
      "Requirement already satisfied: pytz>=2017.2 in c:\\programdata\\anaconda3\\lib\\site-packages (from pandas) (2019.3)\n",
      "Requirement already satisfied: six>=1.5 in c:\\programdata\\anaconda3\\lib\\site-packages (from python-dateutil>=2.6.1->pandas) (1.14.0)\n",
      "Note: you may need to restart the kernel to use updated packages.\n"
     ]
    },
    {
     "name": "stderr",
     "output_type": "stream",
     "text": [
      "WARNING: Ignoring invalid distribution -ip (c:\\programdata\\anaconda3\\lib\\site-packages)\n",
      "WARNING: Ignoring invalid distribution - (c:\\programdata\\anaconda3\\lib\\site-packages)\n",
      "WARNING: Ignoring invalid distribution -ip (c:\\programdata\\anaconda3\\lib\\site-packages)\n",
      "WARNING: Ignoring invalid distribution - (c:\\programdata\\anaconda3\\lib\\site-packages)\n",
      "WARNING: Ignoring invalid distribution -ip (c:\\programdata\\anaconda3\\lib\\site-packages)\n",
      "WARNING: Ignoring invalid distribution - (c:\\programdata\\anaconda3\\lib\\site-packages)\n",
      "WARNING: Ignoring invalid distribution -ip (c:\\programdata\\anaconda3\\lib\\site-packages)\n",
      "WARNING: Ignoring invalid distribution - (c:\\programdata\\anaconda3\\lib\\site-packages)\n",
      "WARNING: Ignoring invalid distribution -ip (c:\\programdata\\anaconda3\\lib\\site-packages)\n",
      "WARNING: Ignoring invalid distribution - (c:\\programdata\\anaconda3\\lib\\site-packages)\n",
      "WARNING: Ignoring invalid distribution -ip (c:\\programdata\\anaconda3\\lib\\site-packages)\n",
      "WARNING: Ignoring invalid distribution - (c:\\programdata\\anaconda3\\lib\\site-packages)\n",
      "WARNING: Ignoring invalid distribution -ip (c:\\programdata\\anaconda3\\lib\\site-packages)\n",
      "WARNING: Ignoring invalid distribution - (c:\\programdata\\anaconda3\\lib\\site-packages)\n",
      "WARNING: Ignoring invalid distribution -ip (c:\\programdata\\anaconda3\\lib\\site-packages)\n",
      "WARNING: Ignoring invalid distribution - (c:\\programdata\\anaconda3\\lib\\site-packages)\n",
      "WARNING:root:Requests made without an app_token will be subject to strict throttling limits.\n"
     ]
    },
    {
     "name": "stdout",
     "output_type": "stream",
     "text": [
      "Requirement already satisfied: sodapy in c:\\programdata\\anaconda3\\lib\\site-packages (2.1.0)\n",
      "Requirement already satisfied: requests>=2.20.0 in c:\\programdata\\anaconda3\\lib\\site-packages (from sodapy) (2.22.0)\n",
      "Requirement already satisfied: urllib3!=1.25.0,!=1.25.1,<1.26,>=1.21.1 in c:\\programdata\\anaconda3\\lib\\site-packages (from requests>=2.20.0->sodapy) (1.25.8)\n",
      "Requirement already satisfied: chardet<3.1.0,>=3.0.2 in c:\\programdata\\anaconda3\\lib\\site-packages (from requests>=2.20.0->sodapy) (3.0.4)\n",
      "Requirement already satisfied: idna<2.9,>=2.5 in c:\\programdata\\anaconda3\\lib\\site-packages (from requests>=2.20.0->sodapy) (2.8)\n",
      "Requirement already satisfied: certifi>=2017.4.17 in c:\\programdata\\anaconda3\\lib\\site-packages (from requests>=2.20.0->sodapy) (2019.11.28)\n",
      "Note: you may need to restart the kernel to use updated packages.\n"
     ]
    }
   ],
   "source": [
    "#!/usr/bin/env python\n",
    "\n",
    "# https://dev.socrata.com/foundry/data.cityofnewyork.us/k397-673e\n",
    "# make sure to install these packages before running:\n",
    "# pip install pandas\n",
    "# pip install sodapy\n",
    "\n",
    "%pip install pandas\n",
    "%pip install sodapy\n",
    "%pip install seaborn\n",
    "%pip install matplotlib\n",
    "\n",
    "import seaborn as sns\n",
    "import matplotlib.pyplot as plt\n",
    "import pandas as pd\n",
    "from sodapy import Socrata\n",
    "import numpy as np\n",
    "\n",
    "# Unauthenticated client only works with public data sets. Note 'None'\n",
    "# in place of application token, and no username or password:\n",
    "client = Socrata(\"data.cityofnewyork.us\", None)\n",
    "\n",
    "# Example authenticated client (needed for non-public datasets):\n",
    "# client = Socrata(data.cityofnewyork.us,\n",
    "#                  MyAppToken,\n",
    "#                  userame=\"user@example.com\",\n",
    "#                  password=\"AFakePassword\")\n",
    "\n",
    "# First 10000000 results, returned as JSON from API / converted to Python list of\n",
    "# dictionaries by sodapy.\n",
    "results = client.get(\"k397-673e\", limit=1000000)\n",
    "\n",
    "# Convert to pandas DataFrame\n",
    "results_df = pd.DataFrame.from_records(results)"
   ]
  },
  {
   "cell_type": "markdown",
   "metadata": {},
   "source": [
    "## Part I: Data Exploration"
   ]
  },
  {
   "cell_type": "code",
   "execution_count": 26,
   "metadata": {},
   "outputs": [
    {
     "data": {
      "text/plain": [
       "fiscal_year                   object\n",
       "payroll_number                object\n",
       "agency_name                   object\n",
       "last_name                     object\n",
       "first_name                    object\n",
       "mid_init                      object\n",
       "agency_start_date             object\n",
       "work_location_borough         object\n",
       "title_description             object\n",
       "leave_status_as_of_july_31    object\n",
       "base_salary                   object\n",
       "pay_basis                     object\n",
       "regular_hours                 object\n",
       "regular_gross_paid            object\n",
       "ot_hours                      object\n",
       "total_ot_paid                 object\n",
       "total_other_pay               object\n",
       "dtype: object"
      ]
     },
     "execution_count": 26,
     "metadata": {},
     "output_type": "execute_result"
    }
   ],
   "source": [
    "# Checking the type for each of the columns\n",
    "# We will find that all of the columns seem to be objects so we need to convert some to numeric later on or just drop\n",
    "# them if not interested in them\n",
    "\n",
    "results_df.dtypes"
   ]
  },
  {
   "cell_type": "code",
   "execution_count": 27,
   "metadata": {},
   "outputs": [],
   "source": [
    "# Convert the leave_status_as_of_july_31 feature as 0 or 1\n"
   ]
  },
  {
   "cell_type": "code",
   "execution_count": 28,
   "metadata": {},
   "outputs": [
    {
     "name": "stdout",
     "output_type": "stream",
     "text": [
      "2021  - Number of Rows:  130750\n",
      "2020  - Number of Rows:  128406\n",
      "2019  - Number of Rows:  131457\n",
      "2018  - Number of Rows:  124622\n",
      "2017  - Number of Rows:  142445\n",
      "2016  - Number of Rows:  116483\n",
      "2015  - Number of Rows:  115347\n",
      "2014  - Number of Rows:  110490\n"
     ]
    }
   ],
   "source": [
    "# Lets examine how much data we have for each of the fiscal year\n",
    "\n",
    "unique_years = results_df['fiscal_year'].unique()\n",
    "unique_years\n",
    "\n",
    "for i in unique_years:\n",
    "    print(i, ' - Number of Rows: ', results_df[results_df['fiscal_year'] == i].shape[0])\n"
   ]
  },
  {
   "cell_type": "code",
   "execution_count": 29,
   "metadata": {},
   "outputs": [
    {
     "data": {
      "text/plain": [
       "fiscal_year                        0\n",
       "payroll_number                375210\n",
       "agency_name                        0\n",
       "last_name                        257\n",
       "first_name                       259\n",
       "mid_init                      479098\n",
       "agency_start_date                 63\n",
       "work_location_borough         109555\n",
       "title_description                 17\n",
       "leave_status_as_of_july_31         0\n",
       "base_salary                        0\n",
       "pay_basis                          0\n",
       "regular_hours                      0\n",
       "regular_gross_paid                 0\n",
       "ot_hours                           0\n",
       "total_ot_paid                      0\n",
       "total_other_pay                    0\n",
       "dtype: int64"
      ]
     },
     "execution_count": 29,
     "metadata": {},
     "output_type": "execute_result"
    }
   ],
   "source": [
    "# Lets see how much missing data there is\n",
    "# There is 17 rows that is missing the title description, \n",
    "# work_location_borough and agency_start_date which is a feature we are interested in\n",
    "# Other features like payroll_number, name, mid_init we aren't interested in for this data exploration\n",
    "\n",
    "results_df.isna().sum()\n",
    "\n"
   ]
  },
  {
   "cell_type": "markdown",
   "metadata": {},
   "source": [
    "#### Preprocessing\n",
    "We need to convert datatypes into numerical values so that we can manipulate them and create some summary statistics and do feature engineering"
   ]
  },
  {
   "cell_type": "code",
   "execution_count": 30,
   "metadata": {},
   "outputs": [],
   "source": [
    "# Drop base_salary and pay_basis since they are features that are already incorporated in regular_gross_paid\n",
    "results_df = results_df.drop(columns=['base_salary', 'pay_basis'])"
   ]
  },
  {
   "cell_type": "code",
   "execution_count": 31,
   "metadata": {},
   "outputs": [
    {
     "name": "stderr",
     "output_type": "stream",
     "text": [
      "C:\\ProgramData\\Anaconda3\\lib\\site-packages\\pandas\\core\\strings.py:1952: UserWarning: This pattern has match groups. To actually get the groups, use str.extract.\n",
      "  return func(self, *args, **kwargs)\n"
     ]
    }
   ],
   "source": [
    "\n",
    "# We will also drop some rows that have mistyped 60157.150.004245.78 as the regular_gross_paid\n",
    "# Using regular expression to remove strings that have more than one decimal point in them\n",
    "\n",
    "reg_pattern = \"(\\.[a-z]){2,}\"\n",
    "filter_pattern = results_df['regular_gross_paid'].str.contains(reg_pattern)\n",
    "results_df = results_df[~filter_pattern]\n",
    "\n",
    "convert_to_numeric = ['regular_hours', 'regular_gross_paid', 'ot_hours', 'total_ot_paid', 'total_other_pay']\n",
    "\n",
    "for i in convert_to_numeric:\n",
    "    results_df[i] = pd.to_numeric(results_df[i]) \n",
    "\n"
   ]
  },
  {
   "cell_type": "code",
   "execution_count": 32,
   "metadata": {},
   "outputs": [
    {
     "data": {
      "text/plain": [
       "fiscal_year                    object\n",
       "payroll_number                 object\n",
       "agency_name                    object\n",
       "last_name                      object\n",
       "first_name                     object\n",
       "mid_init                       object\n",
       "agency_start_date              object\n",
       "work_location_borough          object\n",
       "title_description              object\n",
       "leave_status_as_of_july_31     object\n",
       "regular_hours                 float64\n",
       "regular_gross_paid            float64\n",
       "ot_hours                      float64\n",
       "total_ot_paid                 float64\n",
       "total_other_pay               float64\n",
       "dtype: object"
      ]
     },
     "execution_count": 32,
     "metadata": {},
     "output_type": "execute_result"
    }
   ],
   "source": [
    "# Check to see if the features have been properly converted\n",
    "results_df.dtypes"
   ]
  },
  {
   "cell_type": "code",
   "execution_count": 33,
   "metadata": {},
   "outputs": [
    {
     "name": "stdout",
     "output_type": "stream",
     "text": [
      "2021  - Number of Rows:  130750\n",
      "2020  - Number of Rows:  128406\n",
      "2019  - Number of Rows:  131457\n",
      "2018  - Number of Rows:  124622\n",
      "2017  - Number of Rows:  142445\n",
      "2016  - Number of Rows:  116483\n",
      "2015  - Number of Rows:  115347\n",
      "2014  - Number of Rows:  110490\n"
     ]
    },
    {
     "data": {
      "text/plain": [
       "1000000"
      ]
     },
     "execution_count": 33,
     "metadata": {},
     "output_type": "execute_result"
    }
   ],
   "source": [
    "for i in unique_years:\n",
    "    print(i, ' - Number of Rows: ', results_df[results_df['fiscal_year'] == i].shape[0])\n",
    "\n",
    "results_df.shape[0]"
   ]
  },
  {
   "cell_type": "markdown",
   "metadata": {},
   "source": [
    "#### Feature Engineering\n",
    "We are mostly interested in knowing total gross pay of these jobs: Regular Gross Paid + Total OT Paid + Total Other Pay.\n",
    "\n",
    "Therefore we will make a calculated field called total_gross_pay. We also need to convert these data types to numeric since python has read them in as strings.\n",
    "\n",
    "We can also potentially drop base_salary and pay_basis since those are implicitely included in regular_gross_paid\n",
    "\n",
    "We can also calculate another feature called ot_paid_ per_hour from the features total_ot_paid and ot_hours. This we way we can know how much their over time pay is per hour depending on their job. Which would be an interesting thing to know."
   ]
  },
  {
   "cell_type": "code",
   "execution_count": 34,
   "metadata": {},
   "outputs": [],
   "source": [
    "# Creating a new column: total_gross_pay = regular_gross_pay + total_OT_paid + Total_Other_Pay\n",
    "\n",
    "results_df['total_gross_pay'] = results_df['regular_gross_paid'] + results_df['total_ot_paid'] + results_df['total_other_pay']"
   ]
  },
  {
   "cell_type": "code",
   "execution_count": 38,
   "metadata": {},
   "outputs": [],
   "source": [
    "# Creating a new column: ot_paid_per_hour = total_ot_paid / ot_hours\n",
    "# Also removing any np.nan or np.inf due to division by 0\n",
    "\n",
    "results_df['ot_paid_per_hour'] = results_df['total_ot_paid'] / results_df['ot_hours'] \n",
    "\n",
    "results_df['ot_paid_per_hour'] = results_df['total_ot_paid'].replace([np.inf, np.nan], 0)"
   ]
  },
  {
   "cell_type": "markdown",
   "metadata": {},
   "source": [
    "We can use construct a covariance matrix to see the relationship between each of the numerical categories."
   ]
  },
  {
   "cell_type": "code",
   "execution_count": 39,
   "metadata": {},
   "outputs": [
    {
     "name": "stdout",
     "output_type": "stream",
     "text": [
      "Requirement already satisfied: seaborn in c:\\programdata\\anaconda3\\lib\\site-packages (0.10.0)\n",
      "Requirement already satisfied: scipy>=1.0.1 in c:\\programdata\\anaconda3\\lib\\site-packages (from seaborn) (1.4.1)\n",
      "Requirement already satisfied: pandas>=0.22.0 in c:\\programdata\\anaconda3\\lib\\site-packages (from seaborn) (1.0.1)\n",
      "Requirement already satisfied: numpy>=1.13.3 in c:\\programdata\\anaconda3\\lib\\site-packages (from seaborn) (1.18.1)\n",
      "Requirement already satisfied: matplotlib>=2.1.2 in c:\\programdata\\anaconda3\\lib\\site-packages (from seaborn) (3.1.3)\n",
      "Requirement already satisfied: pyparsing!=2.0.4,!=2.1.2,!=2.1.6,>=2.0.1 in c:\\programdata\\anaconda3\\lib\\site-packages (from matplotlib>=2.1.2->seaborn) (2.4.6)\n",
      "Requirement already satisfied: kiwisolver>=1.0.1 in c:\\programdata\\anaconda3\\lib\\site-packages (from matplotlib>=2.1.2->seaborn) (1.1.0)\n",
      "Requirement already satisfied: cycler>=0.10 in c:\\programdata\\anaconda3\\lib\\site-packages (from matplotlib>=2.1.2->seaborn) (0.10.0)\n",
      "Requirement already satisfied: python-dateutil>=2.1 in c:\\programdata\\anaconda3\\lib\\site-packages (from matplotlib>=2.1.2->seaborn) (2.8.1)\n",
      "Requirement already satisfied: pytz>=2017.2 in c:\\programdata\\anaconda3\\lib\\site-packages (from pandas>=0.22.0->seaborn) (2019.3)\n",
      "Requirement already satisfied: six in c:\\programdata\\anaconda3\\lib\\site-packages (from cycler>=0.10->matplotlib>=2.1.2->seaborn) (1.14.0)\n",
      "Requirement already satisfied: setuptools in c:\\programdata\\anaconda3\\lib\\site-packages (from kiwisolver>=1.0.1->matplotlib>=2.1.2->seaborn) (49.2.0)\n",
      "Note: you may need to restart the kernel to use updated packages.\n"
     ]
    },
    {
     "name": "stderr",
     "output_type": "stream",
     "text": [
      "WARNING: Ignoring invalid distribution -ip (c:\\programdata\\anaconda3\\lib\\site-packages)\n",
      "WARNING: Ignoring invalid distribution - (c:\\programdata\\anaconda3\\lib\\site-packages)\n",
      "WARNING: Ignoring invalid distribution -ip (c:\\programdata\\anaconda3\\lib\\site-packages)\n",
      "WARNING: Ignoring invalid distribution - (c:\\programdata\\anaconda3\\lib\\site-packages)\n",
      "WARNING: Ignoring invalid distribution -ip (c:\\programdata\\anaconda3\\lib\\site-packages)\n",
      "WARNING: Ignoring invalid distribution - (c:\\programdata\\anaconda3\\lib\\site-packages)\n",
      "WARNING: Ignoring invalid distribution -ip (c:\\programdata\\anaconda3\\lib\\site-packages)\n",
      "WARNING: Ignoring invalid distribution - (c:\\programdata\\anaconda3\\lib\\site-packages)\n"
     ]
    },
    {
     "name": "stdout",
     "output_type": "stream",
     "text": [
      "Requirement already satisfied: matplotlib in c:\\programdata\\anaconda3\\lib\\site-packages (3.1.3)\n",
      "Requirement already satisfied: kiwisolver>=1.0.1 in c:\\programdata\\anaconda3\\lib\\site-packages (from matplotlib) (1.1.0)\n",
      "Requirement already satisfied: pyparsing!=2.0.4,!=2.1.2,!=2.1.6,>=2.0.1 in c:\\programdata\\anaconda3\\lib\\site-packages (from matplotlib) (2.4.6)\n",
      "Requirement already satisfied: numpy>=1.11 in c:\\programdata\\anaconda3\\lib\\site-packages (from matplotlib) (1.18.1)\n",
      "Requirement already satisfied: cycler>=0.10 in c:\\programdata\\anaconda3\\lib\\site-packages (from matplotlib) (0.10.0)\n",
      "Requirement already satisfied: python-dateutil>=2.1 in c:\\programdata\\anaconda3\\lib\\site-packages (from matplotlib) (2.8.1)\n",
      "Requirement already satisfied: six in c:\\programdata\\anaconda3\\lib\\site-packages (from cycler>=0.10->matplotlib) (1.14.0)\n",
      "Requirement already satisfied: setuptools in c:\\programdata\\anaconda3\\lib\\site-packages (from kiwisolver>=1.0.1->matplotlib) (49.2.0)\n",
      "Note: you may need to restart the kernel to use updated packages.\n"
     ]
    },
    {
     "name": "stderr",
     "output_type": "stream",
     "text": [
      "WARNING: Ignoring invalid distribution -ip (c:\\programdata\\anaconda3\\lib\\site-packages)\n",
      "WARNING: Ignoring invalid distribution - (c:\\programdata\\anaconda3\\lib\\site-packages)\n",
      "WARNING: Ignoring invalid distribution -ip (c:\\programdata\\anaconda3\\lib\\site-packages)\n",
      "WARNING: Ignoring invalid distribution - (c:\\programdata\\anaconda3\\lib\\site-packages)\n",
      "WARNING: Ignoring invalid distribution -ip (c:\\programdata\\anaconda3\\lib\\site-packages)\n",
      "WARNING: Ignoring invalid distribution - (c:\\programdata\\anaconda3\\lib\\site-packages)\n",
      "WARNING: Ignoring invalid distribution -ip (c:\\programdata\\anaconda3\\lib\\site-packages)\n",
      "WARNING: Ignoring invalid distribution - (c:\\programdata\\anaconda3\\lib\\site-packages)\n"
     ]
    },
    {
     "data": {
      "text/plain": [
       "<matplotlib.axes._subplots.AxesSubplot at 0x29686f55948>"
      ]
     },
     "execution_count": 39,
     "metadata": {},
     "output_type": "execute_result"
    },
    {
     "data": {
      "image/png": "[encoded data removed]",
      "text/plain": [
       "<Figure size 432x288 with 2 Axes>"
      ]
     },
     "metadata": {
      "needs_background": "light"
     },
     "output_type": "display_data"
    }
   ],
   "source": [
    "# Covariance Matrix\n",
    "corr = results_df.corr()\n",
    "sns.heatmap(corr, annot=True)\n"
   ]
  },
  {
   "cell_type": "markdown",
   "metadata": {},
   "source": [
    "### Analysis:\n",
    "Using the covariance matrix we can see some clear correlations such as the regular hours has a huge impact on regular gross paid with a high correlation of 0.82. Same goes for the correlation between total gross pay and regular gross_paid which means that the regular gross paid is pretty much included in the total gross pay. We can see that the two things that affect the total gross pay the most is the regular hours and the regular gross paid.\n",
    "\n",
    "We can also see that this correlation matrix makes a lot of sense to our intuition since our calculated feature of ot paid per hour is almost entirely correlated to ot_hours and total_ot_paid."
   ]
  },
  {
   "cell_type": "markdown",
   "metadata": {},
   "source": [
    "## Part II: Summary Statistics"
   ]
  },
  {
   "cell_type": "code",
   "execution_count": 41,
   "metadata": {},
   "outputs": [
    {
     "data": {
      "text/html": [
       "<div>\n",
       "<style scoped>\n",
       "    .dataframe tbody tr th:only-of-type {\n",
       "        vertical-align: middle;\n",
       "    }\n",
       "\n",
       "    .dataframe tbody tr th {\n",
       "        vertical-align: top;\n",
       "    }\n",
       "\n",
       "    .dataframe thead th {\n",
       "        text-align: right;\n",
       "    }\n",
       "</style>\n",
       "<table border=\"1\" class=\"dataframe\">\n",
       "  <thead>\n",
       "    <tr style=\"text-align: right;\">\n",
       "      <th></th>\n",
       "      <th>regular_hours</th>\n",
       "      <th>regular_gross_paid</th>\n",
       "      <th>ot_hours</th>\n",
       "      <th>total_ot_paid</th>\n",
       "      <th>total_other_pay</th>\n",
       "      <th>total_gross_pay</th>\n",
       "      <th>ot_paid_per_hour</th>\n",
       "    </tr>\n",
       "  </thead>\n",
       "  <tbody>\n",
       "    <tr>\n",
       "      <th>count</th>\n",
       "      <td>1000000.000000</td>\n",
       "      <td>1000000.000000</td>\n",
       "      <td>1000000.000000</td>\n",
       "      <td>1000000.000000</td>\n",
       "      <td>1000000.000000</td>\n",
       "      <td>1000000.000000</td>\n",
       "      <td>1000000.000000</td>\n",
       "    </tr>\n",
       "    <tr>\n",
       "      <th>mean</th>\n",
       "      <td>900.131178</td>\n",
       "      <td>34303.776386</td>\n",
       "      <td>72.597479</td>\n",
       "      <td>3855.974962</td>\n",
       "      <td>2435.225805</td>\n",
       "      <td>40594.977153</td>\n",
       "      <td>3855.974962</td>\n",
       "    </tr>\n",
       "    <tr>\n",
       "      <th>std</th>\n",
       "      <td>892.984956</td>\n",
       "      <td>37328.754259</td>\n",
       "      <td>173.969284</td>\n",
       "      <td>10199.752878</td>\n",
       "      <td>5550.958215</td>\n",
       "      <td>45746.216175</td>\n",
       "      <td>10199.752878</td>\n",
       "    </tr>\n",
       "    <tr>\n",
       "      <th>min</th>\n",
       "      <td>-490.000000</td>\n",
       "      <td>-117989.060000</td>\n",
       "      <td>-209.000000</td>\n",
       "      <td>-8517.120000</td>\n",
       "      <td>-106132.000000</td>\n",
       "      <td>-117989.060000</td>\n",
       "      <td>-8517.120000</td>\n",
       "    </tr>\n",
       "    <tr>\n",
       "      <th>25%</th>\n",
       "      <td>0.000000</td>\n",
       "      <td>660.000000</td>\n",
       "      <td>0.000000</td>\n",
       "      <td>0.000000</td>\n",
       "      <td>0.000000</td>\n",
       "      <td>675.000000</td>\n",
       "      <td>0.000000</td>\n",
       "    </tr>\n",
       "    <tr>\n",
       "      <th>50%</th>\n",
       "      <td>479.500000</td>\n",
       "      <td>19888.490000</td>\n",
       "      <td>0.000000</td>\n",
       "      <td>0.000000</td>\n",
       "      <td>0.000000</td>\n",
       "      <td>20578.600000</td>\n",
       "      <td>0.000000</td>\n",
       "    </tr>\n",
       "    <tr>\n",
       "      <th>75%</th>\n",
       "      <td>1825.000000</td>\n",
       "      <td>63915.690000</td>\n",
       "      <td>20.000000</td>\n",
       "      <td>818.487500</td>\n",
       "      <td>2465.645000</td>\n",
       "      <td>72430.097500</td>\n",
       "      <td>818.487500</td>\n",
       "    </tr>\n",
       "    <tr>\n",
       "      <th>max</th>\n",
       "      <td>4171.430000</td>\n",
       "      <td>488000.000000</td>\n",
       "      <td>3347.500000</td>\n",
       "      <td>217915.940000</td>\n",
       "      <td>214703.140000</td>\n",
       "      <td>488000.000000</td>\n",
       "      <td>217915.940000</td>\n",
       "    </tr>\n",
       "  </tbody>\n",
       "</table>\n",
       "</div>"
      ],
      "text/plain": [
       "        regular_hours  regular_gross_paid        ot_hours   total_ot_paid  \\\n",
       "count  1000000.000000      1000000.000000  1000000.000000  1000000.000000   \n",
       "mean       900.131178        34303.776386       72.597479     3855.974962   \n",
       "std        892.984956        37328.754259      173.969284    10199.752878   \n",
       "min       -490.000000      -117989.060000     -209.000000    -8517.120000   \n",
       "25%          0.000000          660.000000        0.000000        0.000000   \n",
       "50%        479.500000        19888.490000        0.000000        0.000000   \n",
       "75%       1825.000000        63915.690000       20.000000      818.487500   \n",
       "max       4171.430000       488000.000000     3347.500000   217915.940000   \n",
       "\n",
       "       total_other_pay  total_gross_pay  ot_paid_per_hour  \n",
       "count   1000000.000000   1000000.000000    1000000.000000  \n",
       "mean       2435.225805     40594.977153       3855.974962  \n",
       "std        5550.958215     45746.216175      10199.752878  \n",
       "min     -106132.000000   -117989.060000      -8517.120000  \n",
       "25%           0.000000       675.000000          0.000000  \n",
       "50%           0.000000     20578.600000          0.000000  \n",
       "75%        2465.645000     72430.097500        818.487500  \n",
       "max      214703.140000    488000.000000     217915.940000  "
      ]
     },
     "execution_count": 41,
     "metadata": {},
     "output_type": "execute_result"
    }
   ],
   "source": [
    "# Summary Statistics\n",
    "results_df.describe()"
   ]
  },
  {
   "cell_type": "markdown",
   "metadata": {},
   "source": [
    "#### Analysis\n",
    "If we look at the minimum for these features we can see that there are negative values which can be kinda strange to explain why total_gross_pay is negative. A couple of reasons this could happen explained here https://kb.blackbaud.com/knowledgebase/Article/49719,\n",
    "however for our purposes we might want to remove these negative amounts and see how it changes our summary statistics."
   ]
  },
  {
   "cell_type": "code",
   "execution_count": 51,
   "metadata": {},
   "outputs": [
    {
     "data": {
      "text/plain": [
       "2840"
      ]
     },
     "execution_count": 51,
     "metadata": {},
     "output_type": "execute_result"
    }
   ],
   "source": [
    "# Lets see how many of these rows contain values where the total_gross_pay is negative (2840), we can also check which jobs these are but we'll see its not exactly specific to any one job\n",
    "negative_df = results_df[results_df['total_gross_pay'] <= 0]\n",
    "negative_df.shape[0]\n",
    "\n"
   ]
  },
  {
   "cell_type": "code",
   "execution_count": 52,
   "metadata": {},
   "outputs": [],
   "source": [
    "# Lets go ahead and just remove those rows then\n",
    "positive_pay_df = results_df[results_df['total_gross_pay'] > 0]"
   ]
  },
  {
   "cell_type": "code",
   "execution_count": 53,
   "metadata": {},
   "outputs": [
    {
     "data": {
      "text/html": [
       "<div>\n",
       "<style scoped>\n",
       "    .dataframe tbody tr th:only-of-type {\n",
       "        vertical-align: middle;\n",
       "    }\n",
       "\n",
       "    .dataframe tbody tr th {\n",
       "        vertical-align: top;\n",
       "    }\n",
       "\n",
       "    .dataframe thead th {\n",
       "        text-align: right;\n",
       "    }\n",
       "</style>\n",
       "<table border=\"1\" class=\"dataframe\">\n",
       "  <thead>\n",
       "    <tr style=\"text-align: right;\">\n",
       "      <th></th>\n",
       "      <th>regular_hours</th>\n",
       "      <th>regular_gross_paid</th>\n",
       "      <th>ot_hours</th>\n",
       "      <th>total_ot_paid</th>\n",
       "      <th>total_other_pay</th>\n",
       "      <th>total_gross_pay</th>\n",
       "      <th>ot_paid_per_hour</th>\n",
       "    </tr>\n",
       "  </thead>\n",
       "  <tbody>\n",
       "    <tr>\n",
       "      <th>count</th>\n",
       "      <td>997160.000000</td>\n",
       "      <td>997160.000000</td>\n",
       "      <td>997160.000000</td>\n",
       "      <td>997160.000000</td>\n",
       "      <td>997160.000000</td>\n",
       "      <td>9.971600e+05</td>\n",
       "      <td>997160.000000</td>\n",
       "    </tr>\n",
       "    <tr>\n",
       "      <th>mean</th>\n",
       "      <td>902.555059</td>\n",
       "      <td>34395.320174</td>\n",
       "      <td>72.804379</td>\n",
       "      <td>3866.932104</td>\n",
       "      <td>2456.546939</td>\n",
       "      <td>4.071880e+04</td>\n",
       "      <td>3866.932104</td>\n",
       "    </tr>\n",
       "    <tr>\n",
       "      <th>std</th>\n",
       "      <td>892.996074</td>\n",
       "      <td>37337.302613</td>\n",
       "      <td>174.173452</td>\n",
       "      <td>10212.191481</td>\n",
       "      <td>5482.454276</td>\n",
       "      <td>4.575081e+04</td>\n",
       "      <td>10212.191481</td>\n",
       "    </tr>\n",
       "    <tr>\n",
       "      <th>min</th>\n",
       "      <td>-210.000000</td>\n",
       "      <td>-18982.800000</td>\n",
       "      <td>-209.000000</td>\n",
       "      <td>-8517.120000</td>\n",
       "      <td>-106132.000000</td>\n",
       "      <td>2.842171e-14</td>\n",
       "      <td>-8517.120000</td>\n",
       "    </tr>\n",
       "    <tr>\n",
       "      <th>25%</th>\n",
       "      <td>0.000000</td>\n",
       "      <td>675.000000</td>\n",
       "      <td>0.000000</td>\n",
       "      <td>0.000000</td>\n",
       "      <td>0.000000</td>\n",
       "      <td>6.750000e+02</td>\n",
       "      <td>0.000000</td>\n",
       "    </tr>\n",
       "    <tr>\n",
       "      <th>50%</th>\n",
       "      <td>491.500000</td>\n",
       "      <td>20217.850000</td>\n",
       "      <td>0.000000</td>\n",
       "      <td>0.000000</td>\n",
       "      <td>0.000000</td>\n",
       "      <td>2.101022e+04</td>\n",
       "      <td>0.000000</td>\n",
       "    </tr>\n",
       "    <tr>\n",
       "      <th>75%</th>\n",
       "      <td>1825.000000</td>\n",
       "      <td>64050.100000</td>\n",
       "      <td>20.500000</td>\n",
       "      <td>839.602500</td>\n",
       "      <td>2486.400000</td>\n",
       "      <td>7.256245e+04</td>\n",
       "      <td>839.602500</td>\n",
       "    </tr>\n",
       "    <tr>\n",
       "      <th>max</th>\n",
       "      <td>4171.430000</td>\n",
       "      <td>488000.000000</td>\n",
       "      <td>3347.500000</td>\n",
       "      <td>217915.940000</td>\n",
       "      <td>214703.140000</td>\n",
       "      <td>4.880000e+05</td>\n",
       "      <td>217915.940000</td>\n",
       "    </tr>\n",
       "  </tbody>\n",
       "</table>\n",
       "</div>"
      ],
      "text/plain": [
       "       regular_hours  regular_gross_paid       ot_hours  total_ot_paid  \\\n",
       "count  997160.000000       997160.000000  997160.000000  997160.000000   \n",
       "mean      902.555059        34395.320174      72.804379    3866.932104   \n",
       "std       892.996074        37337.302613     174.173452   10212.191481   \n",
       "min      -210.000000       -18982.800000    -209.000000   -8517.120000   \n",
       "25%         0.000000          675.000000       0.000000       0.000000   \n",
       "50%       491.500000        20217.850000       0.000000       0.000000   \n",
       "75%      1825.000000        64050.100000      20.500000     839.602500   \n",
       "max      4171.430000       488000.000000    3347.500000  217915.940000   \n",
       "\n",
       "       total_other_pay  total_gross_pay  ot_paid_per_hour  \n",
       "count    997160.000000     9.971600e+05     997160.000000  \n",
       "mean       2456.546939     4.071880e+04       3866.932104  \n",
       "std        5482.454276     4.575081e+04      10212.191481  \n",
       "min     -106132.000000     2.842171e-14      -8517.120000  \n",
       "25%           0.000000     6.750000e+02          0.000000  \n",
       "50%           0.000000     2.101022e+04          0.000000  \n",
       "75%        2486.400000     7.256245e+04        839.602500  \n",
       "max      214703.140000     4.880000e+05     217915.940000  "
      ]
     },
     "execution_count": 53,
     "metadata": {},
     "output_type": "execute_result"
    }
   ],
   "source": [
    "positive_pay_df.describe()"
   ]
  },
  {
   "cell_type": "code",
   "execution_count": 55,
   "metadata": {},
   "outputs": [
    {
     "data": {
      "text/plain": [
       "<matplotlib.axes._subplots.AxesSubplot at 0x29686f3ffc8>"
      ]
     },
     "execution_count": 55,
     "metadata": {},
     "output_type": "execute_result"
    },
    {
     "data": {
      "image/png": "[encoded data removed]",
      "text/plain": [
       "<Figure size 432x288 with 3 Axes>"
      ]
     },
     "metadata": {
      "needs_background": "light"
     },
     "output_type": "display_data"
    }
   ],
   "source": [
    "# Comparing the two covariance matrices\n",
    "pos_corr = positive_pay_df.corr()\n",
    "sns.heatmap(pos_corr, annot=True)\n",
    "sns.heatmap(corr, annot=True)"
   ]
  }
 ],
 "metadata": {
  "interpreter": {
   "hash": "2db524e06e9f5f4ffedc911c917cb75e12dbc923643829bf417064a77eb14d37"
  },
  "kernelspec": {
   "display_name": "Python 3.8.4 64-bit",
   "language": "python",
   "name": "python3"
  },
  "language_info": {
   "codemirror_mode": {
    "name": "ipython",
    "version": 3
   },
   "file_extension": ".py",
   "mimetype": "text/x-python",
   "name": "python",
   "nbconvert_exporter": "python",
   "pygments_lexer": "ipython3",
   "version": "3.7.6"
  },
  "orig_nbformat": 4
 },
 "nbformat": 4,
 "nbformat_minor": 2
}

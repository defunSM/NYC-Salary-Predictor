{
 "cells": [
  {
   "cell_type": "markdown",
   "metadata": {},
   "source": [
    "### Motivation\n",
    "This dataset contains citywide payroll information for government jobs in NYC. We are interested in understanding more about NYC salaries and potentially develop a model in order to predict gross pay. In order to do so we perform a exploratory data analysis of the dataset to figure out which features of interest we want to use in our models. We will also have to do preprocessing and handling categorical data and convert them into numerical data for our model to use."
   ]
  },
  {
   "cell_type": "markdown",
   "metadata": {},
   "source": [
    "#### Importing libraries and Data Set"
   ]
  },
  {
   "cell_type": "code",
   "execution_count": 1,
   "metadata": {},
   "outputs": [
    {
     "name": "stdout",
     "output_type": "stream",
     "text": [
      "Requirement already satisfied: pandas in ./env/lib/python3.10/site-packages (1.4.0)\n",
      "Requirement already satisfied: python-dateutil>=2.8.1 in ./env/lib/python3.10/site-packages (from pandas) (2.8.2)\n",
      "Requirement already satisfied: pytz>=2020.1 in ./env/lib/python3.10/site-packages (from pandas) (2021.3)\n",
      "Requirement already satisfied: numpy>=1.21.0 in ./env/lib/python3.10/site-packages (from pandas) (1.22.2)\n",
      "Requirement already satisfied: six>=1.5 in ./env/lib/python3.10/site-packages (from python-dateutil>=2.8.1->pandas) (1.16.0)\n",
      "\u001b[33mWARNING: You are using pip version 21.2.4; however, version 22.0.4 is available.\n",
      "You should consider upgrading via the '/home/salman1567/code/Data Science - Machine Learning Projects/NYC_payroll/env/bin/python -m pip install --upgrade pip' command.\u001b[0m\n",
      "Note: you may need to restart the kernel to use updated packages.\n",
      "Collecting sodapy\n",
      "  Downloading sodapy-2.1.0-py2.py3-none-any.whl (14 kB)\n",
      "Requirement already satisfied: requests>=2.20.0 in ./env/lib/python3.10/site-packages (from sodapy) (2.27.1)\n",
      "Requirement already satisfied: idna<4,>=2.5 in ./env/lib/python3.10/site-packages (from requests>=2.20.0->sodapy) (3.3)\n",
      "Requirement already satisfied: urllib3<1.27,>=1.21.1 in ./env/lib/python3.10/site-packages (from requests>=2.20.0->sodapy) (1.26.8)\n",
      "Requirement already satisfied: certifi>=2017.4.17 in ./env/lib/python3.10/site-packages (from requests>=2.20.0->sodapy) (2021.10.8)\n",
      "Requirement already satisfied: charset-normalizer~=2.0.0 in ./env/lib/python3.10/site-packages (from requests>=2.20.0->sodapy) (2.0.11)\n",
      "Installing collected packages: sodapy\n",
      "Successfully installed sodapy-2.1.0\n",
      "\u001b[33mWARNING: You are using pip version 21.2.4; however, version 22.0.4 is available.\n",
      "You should consider upgrading via the '/home/salman1567/code/Data Science - Machine Learning Projects/NYC_payroll/env/bin/python -m pip install --upgrade pip' command.\u001b[0m\n",
      "Note: you may need to restart the kernel to use updated packages.\n",
      "Requirement already satisfied: seaborn in ./env/lib/python3.10/site-packages (0.11.2)\n",
      "Requirement already satisfied: matplotlib>=2.2 in ./env/lib/python3.10/site-packages (from seaborn) (3.5.1)\n",
      "Requirement already satisfied: scipy>=1.0 in ./env/lib/python3.10/site-packages (from seaborn) (1.8.0)\n",
      "Requirement already satisfied: numpy>=1.15 in ./env/lib/python3.10/site-packages (from seaborn) (1.22.2)\n",
      "Requirement already satisfied: pandas>=0.23 in ./env/lib/python3.10/site-packages (from seaborn) (1.4.0)\n",
      "Requirement already satisfied: cycler>=0.10 in ./env/lib/python3.10/site-packages (from matplotlib>=2.2->seaborn) (0.11.0)\n",
      "Requirement already satisfied: python-dateutil>=2.7 in ./env/lib/python3.10/site-packages (from matplotlib>=2.2->seaborn) (2.8.2)\n",
      "Requirement already satisfied: pillow>=6.2.0 in ./env/lib/python3.10/site-packages (from matplotlib>=2.2->seaborn) (9.0.1)\n",
      "Requirement already satisfied: kiwisolver>=1.0.1 in ./env/lib/python3.10/site-packages (from matplotlib>=2.2->seaborn) (1.3.2)\n",
      "Requirement already satisfied: packaging>=20.0 in ./env/lib/python3.10/site-packages (from matplotlib>=2.2->seaborn) (21.3)\n",
      "Requirement already satisfied: pyparsing>=2.2.1 in ./env/lib/python3.10/site-packages (from matplotlib>=2.2->seaborn) (3.0.7)\n",
      "Requirement already satisfied: fonttools>=4.22.0 in ./env/lib/python3.10/site-packages (from matplotlib>=2.2->seaborn) (4.29.1)\n",
      "Requirement already satisfied: pytz>=2020.1 in ./env/lib/python3.10/site-packages (from pandas>=0.23->seaborn) (2021.3)\n",
      "Requirement already satisfied: six>=1.5 in ./env/lib/python3.10/site-packages (from python-dateutil>=2.7->matplotlib>=2.2->seaborn) (1.16.0)\n",
      "\u001b[33mWARNING: You are using pip version 21.2.4; however, version 22.0.4 is available.\n",
      "You should consider upgrading via the '/home/salman1567/code/Data Science - Machine Learning Projects/NYC_payroll/env/bin/python -m pip install --upgrade pip' command.\u001b[0m\n",
      "Note: you may need to restart the kernel to use updated packages.\n",
      "Requirement already satisfied: matplotlib in ./env/lib/python3.10/site-packages (3.5.1)\n",
      "Requirement already satisfied: cycler>=0.10 in ./env/lib/python3.10/site-packages (from matplotlib) (0.11.0)\n",
      "Requirement already satisfied: python-dateutil>=2.7 in ./env/lib/python3.10/site-packages (from matplotlib) (2.8.2)\n",
      "Requirement already satisfied: packaging>=20.0 in ./env/lib/python3.10/site-packages (from matplotlib) (21.3)\n",
      "Requirement already satisfied: fonttools>=4.22.0 in ./env/lib/python3.10/site-packages (from matplotlib) (4.29.1)\n",
      "Requirement already satisfied: pyparsing>=2.2.1 in ./env/lib/python3.10/site-packages (from matplotlib) (3.0.7)\n",
      "Requirement already satisfied: kiwisolver>=1.0.1 in ./env/lib/python3.10/site-packages (from matplotlib) (1.3.2)\n",
      "Requirement already satisfied: numpy>=1.17 in ./env/lib/python3.10/site-packages (from matplotlib) (1.22.2)\n",
      "Requirement already satisfied: pillow>=6.2.0 in ./env/lib/python3.10/site-packages (from matplotlib) (9.0.1)\n",
      "Requirement already satisfied: six>=1.5 in ./env/lib/python3.10/site-packages (from python-dateutil>=2.7->matplotlib) (1.16.0)\n",
      "\u001b[33mWARNING: You are using pip version 21.2.4; however, version 22.0.4 is available.\n",
      "You should consider upgrading via the '/home/salman1567/code/Data Science - Machine Learning Projects/NYC_payroll/env/bin/python -m pip install --upgrade pip' command.\u001b[0m\n",
      "Note: you may need to restart the kernel to use updated packages.\n"
     ]
    },
    {
     "name": "stderr",
     "output_type": "stream",
     "text": [
      "WARNING:root:Requests made without an app_token will be subject to strict throttling limits.\n"
     ]
    }
   ],
   "source": [
    "#!/usr/bin/env python\n",
    "\n",
    "# https://dev.socrata.com/foundry/data.cityofnewyork.us/k397-673e\n",
    "# make sure to install these packages before running:\n",
    "# pip install pandas\n",
    "# pip install sodapy\n",
    "\n",
    "%pip install pandas\n",
    "%pip install sodapy\n",
    "%pip install seaborn\n",
    "%pip install matplotlib\n",
    "\n",
    "import seaborn as sns\n",
    "import matplotlib.pyplot as plt\n",
    "import pandas as pd\n",
    "from sodapy import Socrata\n",
    "import numpy as np\n",
    "\n",
    "# Unauthenticated client only works with public data sets. Note 'None'\n",
    "# in place of application token, and no username or password:\n",
    "client = Socrata(\"data.cityofnewyork.us\", None)\n",
    "\n",
    "# Example authenticated client (needed for non-public datasets):\n",
    "# client = Socrata(data.cityofnewyork.us,\n",
    "#                  MyAppToken,\n",
    "#                  userame=\"user@example.com\",\n",
    "#                  password=\"AFakePassword\")\n",
    "\n",
    "# First 10000000 results, returned as JSON from API / converted to Python list of\n",
    "# dictionaries by sodapy.\n",
    "results = client.get(\"k397-673e\", limit=1000000)\n",
    "\n",
    "# Convert to pandas DataFrame\n",
    "results_df = pd.DataFrame.from_records(results)"
   ]
  },
  {
   "cell_type": "markdown",
   "metadata": {},
   "source": [
    "## Part I: Data Exploration"
   ]
  },
  {
   "cell_type": "code",
   "execution_count": 2,
   "metadata": {},
   "outputs": [
    {
     "data": {
      "text/plain": [
       "fiscal_year                   object\n",
       "payroll_number                object\n",
       "agency_name                   object\n",
       "last_name                     object\n",
       "first_name                    object\n",
       "mid_init                      object\n",
       "agency_start_date             object\n",
       "work_location_borough         object\n",
       "title_description             object\n",
       "leave_status_as_of_july_31    object\n",
       "base_salary                   object\n",
       "pay_basis                     object\n",
       "regular_hours                 object\n",
       "regular_gross_paid            object\n",
       "ot_hours                      object\n",
       "total_ot_paid                 object\n",
       "total_other_pay               object\n",
       "dtype: object"
      ]
     },
     "execution_count": 2,
     "metadata": {},
     "output_type": "execute_result"
    }
   ],
   "source": [
    "# Checking the type for each of the columns\n",
    "# We will find that all of the columns seem to be objects so we need to convert some to numeric later on or just drop\n",
    "# them if not interested in them\n",
    "\n",
    "results_df.dtypes"
   ]
  },
  {
   "cell_type": "code",
   "execution_count": 3,
   "metadata": {},
   "outputs": [],
   "source": [
    "# Convert the leave_status_as_of_july_31 feature as 0 or 1\n"
   ]
  },
  {
   "cell_type": "code",
   "execution_count": 4,
   "metadata": {},
   "outputs": [
    {
     "name": "stdout",
     "output_type": "stream",
     "text": [
      "2021  - Number of Rows:  130750\n",
      "2020  - Number of Rows:  128406\n",
      "2019  - Number of Rows:  131457\n",
      "2018  - Number of Rows:  124622\n",
      "2017  - Number of Rows:  142445\n",
      "2016  - Number of Rows:  116483\n",
      "2015  - Number of Rows:  115347\n",
      "2014  - Number of Rows:  110490\n"
     ]
    }
   ],
   "source": [
    "# Lets examine how much data we have for each of the fiscal year\n",
    "\n",
    "unique_years = results_df['fiscal_year'].unique()\n",
    "unique_years\n",
    "\n",
    "for i in unique_years:\n",
    "    print(i, ' - Number of Rows: ', results_df[results_df['fiscal_year'] == i].shape[0])\n"
   ]
  },
  {
   "cell_type": "code",
   "execution_count": 5,
   "metadata": {},
   "outputs": [
    {
     "data": {
      "text/plain": [
       "fiscal_year                        0\n",
       "payroll_number                375210\n",
       "agency_name                        0\n",
       "last_name                        257\n",
       "first_name                       259\n",
       "mid_init                      479098\n",
       "agency_start_date                 63\n",
       "work_location_borough         109555\n",
       "title_description                 17\n",
       "leave_status_as_of_july_31         0\n",
       "base_salary                        0\n",
       "pay_basis                          0\n",
       "regular_hours                      0\n",
       "regular_gross_paid                 0\n",
       "ot_hours                           0\n",
       "total_ot_paid                      0\n",
       "total_other_pay                    0\n",
       "dtype: int64"
      ]
     },
     "execution_count": 5,
     "metadata": {},
     "output_type": "execute_result"
    }
   ],
   "source": [
    "# Lets see how much missing data there is\n",
    "# There is 17 rows that is missing the title description, \n",
    "# work_location_borough and agency_start_date which is a feature we are interested in\n",
    "# Other features like payroll_number, name, mid_init we aren't interested in for this data exploration\n",
    "\n",
    "results_df.isna().sum()\n",
    "\n"
   ]
  },
  {
   "cell_type": "markdown",
   "metadata": {},
   "source": [
    "#### Preprocessing\n",
    "We need to convert datatypes into numerical values so that we can manipulate them and create some summary statistics and do feature engineering"
   ]
  },
  {
   "cell_type": "code",
   "execution_count": 6,
   "metadata": {},
   "outputs": [],
   "source": [
    "# Drop base_salary and pay_basis since they are features that are already incorporated in regular_gross_paid\n",
    "results_df = results_df.drop(columns=['base_salary', 'pay_basis'])"
   ]
  },
  {
   "cell_type": "code",
   "execution_count": 7,
   "metadata": {},
   "outputs": [
    {
     "name": "stderr",
     "output_type": "stream",
     "text": [
      "/tmp/ipykernel_3770893/3537614432.py:5: UserWarning: This pattern is interpreted as a regular expression, and has match groups. To actually get the groups, use str.extract.\n",
      "  filter_pattern = results_df['regular_gross_paid'].str.contains(reg_pattern)\n"
     ]
    }
   ],
   "source": [
    "\n",
    "# We will also drop some rows that have mistyped 60157.150.004245.78 as the regular_gross_paid\n",
    "# Using regular expression to remove strings that have more than one decimal point in them\n",
    "\n",
    "reg_pattern = \"(\\.[a-z]){2,}\"\n",
    "filter_pattern = results_df['regular_gross_paid'].str.contains(reg_pattern)\n",
    "results_df = results_df[~filter_pattern]\n",
    "\n",
    "convert_to_numeric = ['regular_hours', 'regular_gross_paid', 'ot_hours', 'total_ot_paid', 'total_other_pay']\n",
    "\n",
    "for i in convert_to_numeric:\n",
    "    results_df[i] = pd.to_numeric(results_df[i]) \n",
    "\n"
   ]
  },
  {
   "cell_type": "code",
   "execution_count": 8,
   "metadata": {},
   "outputs": [
    {
     "data": {
      "text/plain": [
       "fiscal_year                    object\n",
       "payroll_number                 object\n",
       "agency_name                    object\n",
       "last_name                      object\n",
       "first_name                     object\n",
       "mid_init                       object\n",
       "agency_start_date              object\n",
       "work_location_borough          object\n",
       "title_description              object\n",
       "leave_status_as_of_july_31     object\n",
       "regular_hours                 float64\n",
       "regular_gross_paid            float64\n",
       "ot_hours                      float64\n",
       "total_ot_paid                 float64\n",
       "total_other_pay               float64\n",
       "dtype: object"
      ]
     },
     "execution_count": 8,
     "metadata": {},
     "output_type": "execute_result"
    }
   ],
   "source": [
    "# Check to see if the features have been properly converted\n",
    "results_df.dtypes"
   ]
  },
  {
   "cell_type": "code",
   "execution_count": 9,
   "metadata": {},
   "outputs": [
    {
     "name": "stdout",
     "output_type": "stream",
     "text": [
      "2021  - Number of Rows:  130750\n",
      "2020  - Number of Rows:  128406\n",
      "2019  - Number of Rows:  131457\n",
      "2018  - Number of Rows:  124622\n",
      "2017  - Number of Rows:  142445\n",
      "2016  - Number of Rows:  116483\n",
      "2015  - Number of Rows:  115347\n",
      "2014  - Number of Rows:  110490\n"
     ]
    },
    {
     "data": {
      "text/plain": [
       "1000000"
      ]
     },
     "execution_count": 9,
     "metadata": {},
     "output_type": "execute_result"
    }
   ],
   "source": [
    "for i in unique_years:\n",
    "    print(i, ' - Number of Rows: ', results_df[results_df['fiscal_year'] == i].shape[0])\n",
    "\n",
    "results_df.shape[0]"
   ]
  },
  {
   "cell_type": "markdown",
   "metadata": {},
   "source": [
    "#### Feature Engineering\n",
    "\n",
    "We are mostly interested in knowing total gross pay of these jobs: Regular Gross Paid + Total OT Paid + Total Other Pay. Therefore we will make a calculated field called total_gross_pay. We also need to convert these data types to numeric since python has read them in as strings. We can also potentially drop base_salary and pay_basis since those are implicitely included in regular_gross_paid. We can also calculate another feature called ot_paid_ per_hour from the features total_ot_paid and ot_hours. This way we can know how much their over time pay is per hour depending on their job. Which would be an interesting thing to know.\n",
    "\n",
    "We can also create a new feature to identify men and female from the first and last name and segment the data into men and women to see if there is homogeneity or not. (If men makes more money than women)"
   ]
  },
  {
   "cell_type": "markdown",
   "metadata": {},
   "source": [
    "> Total Gross Pay\n",
    "\n",
    "The total Gross Pay will be the regular gross paid plus any total over time paid plus any miscellanous pay."
   ]
  },
  {
   "cell_type": "code",
   "execution_count": 10,
   "metadata": {},
   "outputs": [],
   "source": [
    "# Creating a new column: total_gross_pay = regular_gross_pay + total_OT_paid + Total_Other_Pay\n",
    "\n",
    "results_df['total_gross_pay'] = results_df['regular_gross_paid'] + results_df['total_ot_paid'] + results_df['total_other_pay']"
   ]
  },
  {
   "cell_type": "markdown",
   "metadata": {},
   "source": [
    "> OT Paid Per Hour"
   ]
  },
  {
   "cell_type": "code",
   "execution_count": 11,
   "metadata": {},
   "outputs": [],
   "source": [
    "# Creating a new column: ot_paid_per_hour = total_ot_paid / ot_hours\n",
    "# Also removing any np.nan or np.inf due to division by 0\n",
    "\n",
    "results_df['ot_paid_per_hour'] = results_df['total_ot_paid'] / results_df['ot_hours'] \n",
    "\n",
    "results_df['ot_paid_per_hour'] = results_df['total_ot_paid'].replace([np.inf, np.nan], 0)"
   ]
  },
  {
   "cell_type": "markdown",
   "metadata": {},
   "source": [
    "TODO: New Feature Full Name And if person is male or female\n",
    "\n",
    "> Full Name"
   ]
  },
  {
   "cell_type": "code",
   "execution_count": null,
   "metadata": {},
   "outputs": [],
   "source": [
    "# TODO: Create a new feature full name which will be used by a model to create a new feature to classify if person is a man or woman (0 for man 1 for woman)"
   ]
  },
  {
   "cell_type": "markdown",
   "metadata": {},
   "source": [
    "We can use construct a covariance matrix to see the relationship between each of the numerical categories."
   ]
  },
  {
   "cell_type": "code",
   "execution_count": 12,
   "metadata": {},
   "outputs": [
    {
     "data": {
      "text/plain": [
       "<AxesSubplot:>"
      ]
     },
     "execution_count": 12,
     "metadata": {},
     "output_type": "execute_result"
    },
    {
     "data": {
      "image/png": "[encoded data removed]",
      "text/plain": [
       "<Figure size 432x288 with 2 Axes>"
      ]
     },
     "metadata": {
      "needs_background": "light"
     },
     "output_type": "display_data"
    }
   ],
   "source": [
    "# Covariance Matrix\n",
    "corr = results_df.corr()\n",
    "sns.heatmap(corr, annot=True)\n"
   ]
  },
  {
   "cell_type": "markdown",
   "metadata": {},
   "source": [
    "### Analysis:\n",
    "Using the covariance matrix we can see some clear correlations such as the regular hours has a huge impact on regular gross paid with a high correlation of 0.82. Same goes for the correlation between total gross pay and regular gross_paid which means that the regular gross paid is pretty much included in the total gross pay. We can see that the two things that affect the total gross pay the most is the regular hours and the regular gross paid.\n",
    "\n",
    "We can also see that this correlation matrix makes a lot of sense to our intuition since our calculated feature of ot paid per hour is almost entirely correlated to ot_hours and total_ot_paid."
   ]
  },
  {
   "cell_type": "markdown",
   "metadata": {},
   "source": [
    "## Part II: Summary Statistics"
   ]
  },
  {
   "cell_type": "code",
   "execution_count": 13,
   "metadata": {},
   "outputs": [
    {
     "data": {
      "text/html": [
       "<div>\n",
       "<style scoped>\n",
       "    .dataframe tbody tr th:only-of-type {\n",
       "        vertical-align: middle;\n",
       "    }\n",
       "\n",
       "    .dataframe tbody tr th {\n",
       "        vertical-align: top;\n",
       "    }\n",
       "\n",
       "    .dataframe thead th {\n",
       "        text-align: right;\n",
       "    }\n",
       "</style>\n",
       "<table border=\"1\" class=\"dataframe\">\n",
       "  <thead>\n",
       "    <tr style=\"text-align: right;\">\n",
       "      <th></th>\n",
       "      <th>regular_hours</th>\n",
       "      <th>regular_gross_paid</th>\n",
       "      <th>ot_hours</th>\n",
       "      <th>total_ot_paid</th>\n",
       "      <th>total_other_pay</th>\n",
       "      <th>total_gross_pay</th>\n",
       "      <th>ot_paid_per_hour</th>\n",
       "    </tr>\n",
       "  </thead>\n",
       "  <tbody>\n",
       "    <tr>\n",
       "      <th>count</th>\n",
       "      <td>1000000.000000</td>\n",
       "      <td>1000000.000000</td>\n",
       "      <td>1000000.000000</td>\n",
       "      <td>1000000.000000</td>\n",
       "      <td>1000000.000000</td>\n",
       "      <td>1000000.000000</td>\n",
       "      <td>1000000.000000</td>\n",
       "    </tr>\n",
       "    <tr>\n",
       "      <th>mean</th>\n",
       "      <td>900.131178</td>\n",
       "      <td>34303.776386</td>\n",
       "      <td>72.597479</td>\n",
       "      <td>3855.974962</td>\n",
       "      <td>2435.225805</td>\n",
       "      <td>40594.977153</td>\n",
       "      <td>3855.974962</td>\n",
       "    </tr>\n",
       "    <tr>\n",
       "      <th>std</th>\n",
       "      <td>892.984956</td>\n",
       "      <td>37328.754259</td>\n",
       "      <td>173.969284</td>\n",
       "      <td>10199.752878</td>\n",
       "      <td>5550.958215</td>\n",
       "      <td>45746.216175</td>\n",
       "      <td>10199.752878</td>\n",
       "    </tr>\n",
       "    <tr>\n",
       "      <th>min</th>\n",
       "      <td>-490.000000</td>\n",
       "      <td>-117989.060000</td>\n",
       "      <td>-209.000000</td>\n",
       "      <td>-8517.120000</td>\n",
       "      <td>-106132.000000</td>\n",
       "      <td>-117989.060000</td>\n",
       "      <td>-8517.120000</td>\n",
       "    </tr>\n",
       "    <tr>\n",
       "      <th>25%</th>\n",
       "      <td>0.000000</td>\n",
       "      <td>660.000000</td>\n",
       "      <td>0.000000</td>\n",
       "      <td>0.000000</td>\n",
       "      <td>0.000000</td>\n",
       "      <td>675.000000</td>\n",
       "      <td>0.000000</td>\n",
       "    </tr>\n",
       "    <tr>\n",
       "      <th>50%</th>\n",
       "      <td>479.500000</td>\n",
       "      <td>19888.490000</td>\n",
       "      <td>0.000000</td>\n",
       "      <td>0.000000</td>\n",
       "      <td>0.000000</td>\n",
       "      <td>20578.600000</td>\n",
       "      <td>0.000000</td>\n",
       "    </tr>\n",
       "    <tr>\n",
       "      <th>75%</th>\n",
       "      <td>1825.000000</td>\n",
       "      <td>63915.690000</td>\n",
       "      <td>20.000000</td>\n",
       "      <td>818.487500</td>\n",
       "      <td>2465.645000</td>\n",
       "      <td>72430.097500</td>\n",
       "      <td>818.487500</td>\n",
       "    </tr>\n",
       "    <tr>\n",
       "      <th>max</th>\n",
       "      <td>4171.430000</td>\n",
       "      <td>488000.000000</td>\n",
       "      <td>3347.500000</td>\n",
       "      <td>217915.940000</td>\n",
       "      <td>214703.140000</td>\n",
       "      <td>488000.000000</td>\n",
       "      <td>217915.940000</td>\n",
       "    </tr>\n",
       "  </tbody>\n",
       "</table>\n",
       "</div>"
      ],
      "text/plain": [
       "        regular_hours  regular_gross_paid        ot_hours   total_ot_paid  \\\n",
       "count  1000000.000000      1000000.000000  1000000.000000  1000000.000000   \n",
       "mean       900.131178        34303.776386       72.597479     3855.974962   \n",
       "std        892.984956        37328.754259      173.969284    10199.752878   \n",
       "min       -490.000000      -117989.060000     -209.000000    -8517.120000   \n",
       "25%          0.000000          660.000000        0.000000        0.000000   \n",
       "50%        479.500000        19888.490000        0.000000        0.000000   \n",
       "75%       1825.000000        63915.690000       20.000000      818.487500   \n",
       "max       4171.430000       488000.000000     3347.500000   217915.940000   \n",
       "\n",
       "       total_other_pay  total_gross_pay  ot_paid_per_hour  \n",
       "count   1000000.000000   1000000.000000    1000000.000000  \n",
       "mean       2435.225805     40594.977153       3855.974962  \n",
       "std        5550.958215     45746.216175      10199.752878  \n",
       "min     -106132.000000   -117989.060000      -8517.120000  \n",
       "25%           0.000000       675.000000          0.000000  \n",
       "50%           0.000000     20578.600000          0.000000  \n",
       "75%        2465.645000     72430.097500        818.487500  \n",
       "max      214703.140000    488000.000000     217915.940000  "
      ]
     },
     "execution_count": 13,
     "metadata": {},
     "output_type": "execute_result"
    }
   ],
   "source": [
    "# Summary Statistics\n",
    "results_df.describe()"
   ]
  },
  {
   "cell_type": "markdown",
   "metadata": {},
   "source": [
    "#### Analysis\n",
    "If we look at the minimum for these features we can see that there are negative values which can be kinda strange to explain why total_gross_pay is negative. A couple of reasons this could happen explained here https://kb.blackbaud.com/knowledgebase/Article/49719,\n",
    "however for our purposes we might want to remove these negative amounts and see how it changes our summary statistics."
   ]
  },
  {
   "cell_type": "code",
   "execution_count": 14,
   "metadata": {},
   "outputs": [
    {
     "data": {
      "text/plain": [
       "2840"
      ]
     },
     "execution_count": 14,
     "metadata": {},
     "output_type": "execute_result"
    }
   ],
   "source": [
    "# Lets see how many of these rows contain values where the total_gross_pay is negative (2840), we can also check which jobs these are but we'll see its not exactly specific to any one job\n",
    "negative_df = results_df[results_df['total_gross_pay'] <= 0]\n",
    "negative_df.shape[0]\n",
    "\n"
   ]
  },
  {
   "cell_type": "code",
   "execution_count": 15,
   "metadata": {},
   "outputs": [],
   "source": [
    "# Lets go ahead and just remove those rows then\n",
    "positive_pay_df = results_df[results_df['total_gross_pay'] > 0]"
   ]
  },
  {
   "cell_type": "code",
   "execution_count": 19,
   "metadata": {},
   "outputs": [
    {
     "name": "stdout",
     "output_type": "stream",
     "text": [
      "<class 'pandas.core.frame.DataFrame'>\n",
      "Int64Index: 997160 entries, 0 to 999999\n",
      "Data columns (total 17 columns):\n",
      " #   Column                      Non-Null Count   Dtype  \n",
      "---  ------                      --------------   -----  \n",
      " 0   fiscal_year                 997160 non-null  object \n",
      " 1   payroll_number              622187 non-null  object \n",
      " 2   agency_name                 997160 non-null  object \n",
      " 3   last_name                   996904 non-null  object \n",
      " 4   first_name                  996902 non-null  object \n",
      " 5   mid_init                    519432 non-null  object \n",
      " 6   agency_start_date           997097 non-null  object \n",
      " 7   work_location_borough       887674 non-null  object \n",
      " 8   title_description           997143 non-null  object \n",
      " 9   leave_status_as_of_july_31  997160 non-null  object \n",
      " 10  regular_hours               997160 non-null  float64\n",
      " 11  regular_gross_paid          997160 non-null  float64\n",
      " 12  ot_hours                    997160 non-null  float64\n",
      " 13  total_ot_paid               997160 non-null  float64\n",
      " 14  total_other_pay             997160 non-null  float64\n",
      " 15  total_gross_pay             997160 non-null  float64\n",
      " 16  ot_paid_per_hour            997160 non-null  float64\n",
      "dtypes: float64(7), object(10)\n",
      "memory usage: 136.9+ MB\n"
     ]
    }
   ],
   "source": [
    "positive_pay_df.info()"
   ]
  },
  {
   "cell_type": "markdown",
   "metadata": {},
   "source": [
    "Using the info() we can gather that there is some missing data and a lot of them are missing work_location_borough. We will need to look into how to handle it to start we can probably just drop the missing title_descriptions since they are oly a small amount but for work_location we will have to do something else we can start by looking at what uniques that feature can take on."
   ]
  },
  {
   "cell_type": "code",
   "execution_count": 21,
   "metadata": {},
   "outputs": [],
   "source": [
    "\n",
    "# TODO: PICK UP HERE TO IMPLEMENT FINDING UNIQUES OF WORK LOCATION "
   ]
  },
  {
   "cell_type": "code",
   "execution_count": 22,
   "metadata": {},
   "outputs": [
    {
     "name": "stdout",
     "output_type": "stream",
     "text": [
      "<class 'pandas.core.frame.DataFrame'>\n",
      "Int64Index: 997160 entries, 0 to 999999\n",
      "Data columns (total 17 columns):\n",
      " #   Column                      Non-Null Count   Dtype  \n",
      "---  ------                      --------------   -----  \n",
      " 0   fiscal_year                 997160 non-null  object \n",
      " 1   payroll_number              622187 non-null  object \n",
      " 2   agency_name                 997160 non-null  object \n",
      " 3   last_name                   996904 non-null  object \n",
      " 4   first_name                  996902 non-null  object \n",
      " 5   mid_init                    519432 non-null  object \n",
      " 6   agency_start_date           997097 non-null  object \n",
      " 7   work_location_borough       887674 non-null  object \n",
      " 8   title_description           997143 non-null  object \n",
      " 9   leave_status_as_of_july_31  997160 non-null  object \n",
      " 10  regular_hours               997160 non-null  float64\n",
      " 11  regular_gross_paid          997160 non-null  float64\n",
      " 12  ot_hours                    997160 non-null  float64\n",
      " 13  total_ot_paid               997160 non-null  float64\n",
      " 14  total_other_pay             997160 non-null  float64\n",
      " 15  total_gross_pay             997160 non-null  float64\n",
      " 16  ot_paid_per_hour            997160 non-null  float64\n",
      "dtypes: float64(7), object(10)\n",
      "memory usage: 136.9+ MB\n"
     ]
    }
   ],
   "source": [
    "# TODO: clean_DF IS THE dataset clean of any nulls in the dataset that is of interest\n",
    "clean_df.info()"
   ]
  },
  {
   "cell_type": "code",
   "execution_count": 16,
   "metadata": {},
   "outputs": [
    {
     "data": {
      "text/html": [
       "<div>\n",
       "<style scoped>\n",
       "    .dataframe tbody tr th:only-of-type {\n",
       "        vertical-align: middle;\n",
       "    }\n",
       "\n",
       "    .dataframe tbody tr th {\n",
       "        vertical-align: top;\n",
       "    }\n",
       "\n",
       "    .dataframe thead th {\n",
       "        text-align: right;\n",
       "    }\n",
       "</style>\n",
       "<table border=\"1\" class=\"dataframe\">\n",
       "  <thead>\n",
       "    <tr style=\"text-align: right;\">\n",
       "      <th></th>\n",
       "      <th>regular_hours</th>\n",
       "      <th>regular_gross_paid</th>\n",
       "      <th>ot_hours</th>\n",
       "      <th>total_ot_paid</th>\n",
       "      <th>total_other_pay</th>\n",
       "      <th>total_gross_pay</th>\n",
       "      <th>ot_paid_per_hour</th>\n",
       "    </tr>\n",
       "  </thead>\n",
       "  <tbody>\n",
       "    <tr>\n",
       "      <th>count</th>\n",
       "      <td>997160.000000</td>\n",
       "      <td>997160.000000</td>\n",
       "      <td>997160.000000</td>\n",
       "      <td>997160.000000</td>\n",
       "      <td>997160.000000</td>\n",
       "      <td>9.971600e+05</td>\n",
       "      <td>997160.000000</td>\n",
       "    </tr>\n",
       "    <tr>\n",
       "      <th>mean</th>\n",
       "      <td>902.555059</td>\n",
       "      <td>34395.320174</td>\n",
       "      <td>72.804379</td>\n",
       "      <td>3866.932104</td>\n",
       "      <td>2456.546939</td>\n",
       "      <td>4.071880e+04</td>\n",
       "      <td>3866.932104</td>\n",
       "    </tr>\n",
       "    <tr>\n",
       "      <th>std</th>\n",
       "      <td>892.996074</td>\n",
       "      <td>37337.302613</td>\n",
       "      <td>174.173452</td>\n",
       "      <td>10212.191481</td>\n",
       "      <td>5482.454276</td>\n",
       "      <td>4.575081e+04</td>\n",
       "      <td>10212.191481</td>\n",
       "    </tr>\n",
       "    <tr>\n",
       "      <th>min</th>\n",
       "      <td>-210.000000</td>\n",
       "      <td>-18982.800000</td>\n",
       "      <td>-209.000000</td>\n",
       "      <td>-8517.120000</td>\n",
       "      <td>-106132.000000</td>\n",
       "      <td>2.842171e-14</td>\n",
       "      <td>-8517.120000</td>\n",
       "    </tr>\n",
       "    <tr>\n",
       "      <th>25%</th>\n",
       "      <td>0.000000</td>\n",
       "      <td>675.000000</td>\n",
       "      <td>0.000000</td>\n",
       "      <td>0.000000</td>\n",
       "      <td>0.000000</td>\n",
       "      <td>6.750000e+02</td>\n",
       "      <td>0.000000</td>\n",
       "    </tr>\n",
       "    <tr>\n",
       "      <th>50%</th>\n",
       "      <td>491.500000</td>\n",
       "      <td>20217.850000</td>\n",
       "      <td>0.000000</td>\n",
       "      <td>0.000000</td>\n",
       "      <td>0.000000</td>\n",
       "      <td>2.101022e+04</td>\n",
       "      <td>0.000000</td>\n",
       "    </tr>\n",
       "    <tr>\n",
       "      <th>75%</th>\n",
       "      <td>1825.000000</td>\n",
       "      <td>64050.100000</td>\n",
       "      <td>20.500000</td>\n",
       "      <td>839.602500</td>\n",
       "      <td>2486.400000</td>\n",
       "      <td>7.256245e+04</td>\n",
       "      <td>839.602500</td>\n",
       "    </tr>\n",
       "    <tr>\n",
       "      <th>max</th>\n",
       "      <td>4171.430000</td>\n",
       "      <td>488000.000000</td>\n",
       "      <td>3347.500000</td>\n",
       "      <td>217915.940000</td>\n",
       "      <td>214703.140000</td>\n",
       "      <td>4.880000e+05</td>\n",
       "      <td>217915.940000</td>\n",
       "    </tr>\n",
       "  </tbody>\n",
       "</table>\n",
       "</div>"
      ],
      "text/plain": [
       "       regular_hours  regular_gross_paid       ot_hours  total_ot_paid  \\\n",
       "count  997160.000000       997160.000000  997160.000000  997160.000000   \n",
       "mean      902.555059        34395.320174      72.804379    3866.932104   \n",
       "std       892.996074        37337.302613     174.173452   10212.191481   \n",
       "min      -210.000000       -18982.800000    -209.000000   -8517.120000   \n",
       "25%         0.000000          675.000000       0.000000       0.000000   \n",
       "50%       491.500000        20217.850000       0.000000       0.000000   \n",
       "75%      1825.000000        64050.100000      20.500000     839.602500   \n",
       "max      4171.430000       488000.000000    3347.500000  217915.940000   \n",
       "\n",
       "       total_other_pay  total_gross_pay  ot_paid_per_hour  \n",
       "count    997160.000000     9.971600e+05     997160.000000  \n",
       "mean       2456.546939     4.071880e+04       3866.932104  \n",
       "std        5482.454276     4.575081e+04      10212.191481  \n",
       "min     -106132.000000     2.842171e-14      -8517.120000  \n",
       "25%           0.000000     6.750000e+02          0.000000  \n",
       "50%           0.000000     2.101022e+04          0.000000  \n",
       "75%        2486.400000     7.256245e+04        839.602500  \n",
       "max      214703.140000     4.880000e+05     217915.940000  "
      ]
     },
     "execution_count": 16,
     "metadata": {},
     "output_type": "execute_result"
    }
   ],
   "source": [
    "positive_pay_df.describe()"
   ]
  },
  {
   "cell_type": "code",
   "execution_count": 17,
   "metadata": {},
   "outputs": [
    {
     "data": {
      "text/plain": [
       "<AxesSubplot:>"
      ]
     },
     "execution_count": 17,
     "metadata": {},
     "output_type": "execute_result"
    },
    {
     "data": {
      "image/png": "[encoded data removed]",
      "text/plain": [
       "<Figure size 432x288 with 3 Axes>"
      ]
     },
     "metadata": {
      "needs_background": "light"
     },
     "output_type": "display_data"
    }
   ],
   "source": [
    "# Comparing the two covariance matrices\n",
    "pos_corr = positive_pay_df.corr()\n",
    "sns.heatmap(pos_corr, annot=True)\n",
    "sns.heatmap(corr, annot=True)"
   ]
  },
  {
   "cell_type": "code",
   "execution_count": null,
   "metadata": {},
   "outputs": [],
   "source": []
  },
  {
   "cell_type": "markdown",
   "metadata": {},
   "source": [
    "### Modeling\n",
    "ETL PipeLine"
   ]
  },
  {
   "cell_type": "code",
   "execution_count": null,
   "metadata": {},
   "outputs": [],
   "source": [
    "# TODO: Categorical Encoding "
   ]
  },
  {
   "cell_type": "code",
   "execution_count": null,
   "metadata": {},
   "outputs": [],
   "source": [
    "# TODO: Replacing binary categories"
   ]
  },
  {
   "cell_type": "code",
   "execution_count": null,
   "metadata": {},
   "outputs": [],
   "source": []
  },
  {
   "cell_type": "markdown",
   "metadata": {},
   "source": [
    "Machine Learning PipeLine"
   ]
  }
 ],
 "metadata": {
  "interpreter": {
   "hash": "2db524e06e9f5f4ffedc911c917cb75e12dbc923643829bf417064a77eb14d37"
  },
  "kernelspec": {
   "display_name": "Python 3.8.4 64-bit",
   "language": "python",
   "name": "python3"
  },
  "language_info": {
   "codemirror_mode": {
    "name": "ipython",
    "version": 3
   },
   "file_extension": ".py",
   "mimetype": "text/x-python",
   "name": "python",
   "nbconvert_exporter": "python",
   "pygments_lexer": "ipython3",
   "version": "3.10.2"
  },
  "orig_nbformat": 4
 },
 "nbformat": 4,
 "nbformat_minor": 2
}

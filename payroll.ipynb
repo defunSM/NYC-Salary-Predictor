{
 "cells": [
  {
   "cell_type": "markdown",
   "metadata": {},
   "source": [
    "## Importing dependencies"
   ]
  },
  {
   "cell_type": "code",
   "execution_count": 30,
   "metadata": {},
   "outputs": [],
   "source": [
    "import json\n",
    "import time\n",
    "import os\n",
    "\n",
    "import pandas as pd\n",
    "import numpy as np\n",
    "import seaborn as sn\n",
    "\n",
    "from setup_nyc_payroll import download_data, read_from_file"
   ]
  },
  {
   "cell_type": "markdown",
   "metadata": {},
   "source": [
    "## Reading payroll data"
   ]
  },
  {
   "cell_type": "code",
   "execution_count": 31,
   "metadata": {},
   "outputs": [],
   "source": [
    "FILENAME = 'nyc_payroll.json'\n",
    "payroll_data = read_from_file(FILENAME)"
   ]
  },
  {
   "cell_type": "markdown",
   "metadata": {},
   "source": [
    "## Filtering out independent variables\n"
   ]
  },
  {
   "cell_type": "code",
   "execution_count": 39,
   "metadata": {},
   "outputs": [
    {
     "data": {
      "text/plain": [
       "<AxesSubplot:>"
      ]
     },
     "execution_count": 39,
     "metadata": {},
     "output_type": "execute_result"
    },
    {
     "data": {
      "image/png": "[encoded data removed]",
      "text/plain": [
       "<Figure size 432x288 with 2 Axes>"
      ]
     },
     "metadata": {
      "needs_background": "light"
     },
     "output_type": "display_data"
    }
   ],
   "source": [
    "# We are using work_location, regular_hours, and regular_gross_paid to predict title_description\n",
    "\n",
    "df = pd.DataFrame(data=payroll_data)\n",
    "df.head\n",
    "dropped_columns = ['fiscal_year', 'last_name', 'first_name', 'mid_init', 'payroll_number', 'pay_basis', 'leave_status_as_of_july_31', 'total_other_pay', 'base_salary']\n",
    "df = df.drop(dropped_columns, axis=1)\n",
    "\n",
    "\n",
    "\n",
    "# Convert columns to numeric and removes negative gross paid\n",
    "df[[\"regular_hours\", \"regular_gross_paid\"]] = df[[\"regular_hours\", \"regular_gross_paid\"]].apply(pd.to_numeric)\n",
    "df = df[df.agency_start_date != \"9999-12-31T00:00:00.000\"]\n",
    "df = df[(df[[\"regular_gross_paid\"]] > 0).all(1)]\n",
    "df = df.dropna() \n",
    "\n",
    "\n",
    "df.describe()\n",
    "df.head\n",
    "sn.heatmap(df.corr(), annot=True)"
   ]
  },
  {
   "cell_type": "markdown",
   "metadata": {},
   "source": [
    "## Days Worked feature"
   ]
  },
  {
   "cell_type": "code",
   "execution_count": 33,
   "metadata": {},
   "outputs": [],
   "source": [
    "# TODO: Using agency_start_date to make a feature calculating how long they worked in that position\n",
    "# However for now dropping that feature\n",
    "df = df.drop([\"agency_start_date\"], axis=1)"
   ]
  },
  {
   "cell_type": "markdown",
   "metadata": {},
   "source": [
    "## Setting up X and Y variables"
   ]
  },
  {
   "cell_type": "code",
   "execution_count": 34,
   "metadata": {},
   "outputs": [],
   "source": [
    "# Setting up X and Y\n",
    "X = df.drop([\"title_description\"], axis=1)\n",
    "Y = df.title_description\n"
   ]
  },
  {
   "cell_type": "code",
   "execution_count": 35,
   "metadata": {},
   "outputs": [
    {
     "data": {
      "text/html": [
       "<div>\n",
       "<style scoped>\n",
       "    .dataframe tbody tr th:only-of-type {\n",
       "        vertical-align: middle;\n",
       "    }\n",
       "\n",
       "    .dataframe tbody tr th {\n",
       "        vertical-align: top;\n",
       "    }\n",
       "\n",
       "    .dataframe thead th {\n",
       "        text-align: right;\n",
       "    }\n",
       "</style>\n",
       "<table border=\"1\" class=\"dataframe\">\n",
       "  <thead>\n",
       "    <tr style=\"text-align: right;\">\n",
       "      <th></th>\n",
       "      <th>regular_hours</th>\n",
       "      <th>regular_gross_paid</th>\n",
       "    </tr>\n",
       "  </thead>\n",
       "  <tbody>\n",
       "    <tr>\n",
       "      <th>count</th>\n",
       "      <td>300226.000000</td>\n",
       "      <td>300226.000000</td>\n",
       "    </tr>\n",
       "    <tr>\n",
       "      <th>mean</th>\n",
       "      <td>1113.764101</td>\n",
       "      <td>74280.546265</td>\n",
       "    </tr>\n",
       "    <tr>\n",
       "      <th>std</th>\n",
       "      <td>952.544703</td>\n",
       "      <td>31525.145021</td>\n",
       "    </tr>\n",
       "    <tr>\n",
       "      <th>min</th>\n",
       "      <td>0.000000</td>\n",
       "      <td>4.590000</td>\n",
       "    </tr>\n",
       "    <tr>\n",
       "      <th>25%</th>\n",
       "      <td>0.000000</td>\n",
       "      <td>47998.470000</td>\n",
       "    </tr>\n",
       "    <tr>\n",
       "      <th>50%</th>\n",
       "      <td>1820.000000</td>\n",
       "      <td>73132.850000</td>\n",
       "    </tr>\n",
       "    <tr>\n",
       "      <th>75%</th>\n",
       "      <td>2080.000000</td>\n",
       "      <td>95569.830000</td>\n",
       "    </tr>\n",
       "    <tr>\n",
       "      <th>max</th>\n",
       "      <td>4160.000000</td>\n",
       "      <td>359818.400000</td>\n",
       "    </tr>\n",
       "  </tbody>\n",
       "</table>\n",
       "</div>"
      ],
      "text/plain": [
       "       regular_hours  regular_gross_paid\n",
       "count  300226.000000       300226.000000\n",
       "mean     1113.764101        74280.546265\n",
       "std       952.544703        31525.145021\n",
       "min         0.000000            4.590000\n",
       "25%         0.000000        47998.470000\n",
       "50%      1820.000000        73132.850000\n",
       "75%      2080.000000        95569.830000\n",
       "max      4160.000000       359818.400000"
      ]
     },
     "execution_count": 35,
     "metadata": {},
     "output_type": "execute_result"
    }
   ],
   "source": [
    "X.describe()"
   ]
  },
  {
   "cell_type": "code",
   "execution_count": 36,
   "metadata": {},
   "outputs": [
    {
     "data": {
      "text/plain": [
       "<bound method NDFrame.head of                            agency_name work_location_borough  regular_hours  \\\n",
       "0       OFFICE OF EMERGENCY MANAGEMENT              BROOKLYN        1820.00   \n",
       "1       OFFICE OF EMERGENCY MANAGEMENT              BROOKLYN        1820.00   \n",
       "2       OFFICE OF EMERGENCY MANAGEMENT              BROOKLYN        1820.00   \n",
       "3       OFFICE OF EMERGENCY MANAGEMENT              BROOKLYN        1820.00   \n",
       "4       OFFICE OF EMERGENCY MANAGEMENT              BROOKLYN        1820.00   \n",
       "...                                ...                   ...            ...   \n",
       "300354           NYC HOUSING AUTHORITY                QUEENS          17.15   \n",
       "300355           NYC HOUSING AUTHORITY             MANHATTAN          40.00   \n",
       "300365           NYC HOUSING AUTHORITY             MANHATTAN          15.00   \n",
       "300367           NYC HOUSING AUTHORITY             MANHATTAN          17.15   \n",
       "300368           NYC HOUSING AUTHORITY             MANHATTAN          17.15   \n",
       "\n",
       "        regular_gross_paid ot_hours total_ot_paid  \n",
       "0                 84698.21     0.00          0.00  \n",
       "1                 84698.21     0.00          0.00  \n",
       "2                 84698.21     0.00          0.00  \n",
       "3                 84698.21     0.00          0.00  \n",
       "4                 84698.21     0.00          0.00  \n",
       "...                    ...      ...           ...  \n",
       "300354              633.52     0.00          0.00  \n",
       "300355              611.83     0.00          0.00  \n",
       "300365              434.43     0.00          0.00  \n",
       "300367              262.21     0.00          0.00  \n",
       "300368              262.21     0.00          0.00  \n",
       "\n",
       "[300226 rows x 6 columns]>"
      ]
     },
     "execution_count": 36,
     "metadata": {},
     "output_type": "execute_result"
    }
   ],
   "source": [
    "X.head"
   ]
  },
  {
   "cell_type": "markdown",
   "metadata": {},
   "source": [
    "## Encoding categorical data"
   ]
  },
  {
   "cell_type": "code",
   "execution_count": 37,
   "metadata": {},
   "outputs": [],
   "source": [
    "# We have two categorical data the work_location and title_description"
   ]
  }
 ],
 "metadata": {
  "interpreter": {
   "hash": "b46b277caeebf60a98e6286cafe51c9709c5a733e8192678b1e396b3c5d409c6"
  },
  "kernelspec": {
   "display_name": "Python 3.9.6 64-bit ('env': venv)",
   "name": "python3"
  },
  "language_info": {
   "codemirror_mode": {
    "name": "ipython",
    "version": 3
   },
   "file_extension": ".py",
   "mimetype": "text/x-python",
   "name": "python",
   "nbconvert_exporter": "python",
   "pygments_lexer": "ipython3",
   "version": "3.10.1"
  },
  "orig_nbformat": 4
 },
 "nbformat": 4,
 "nbformat_minor": 2
}

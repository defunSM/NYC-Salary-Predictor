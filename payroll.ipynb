{
 "cells": [
  {
   "cell_type": "markdown",
   "source": [
    "## Importing dependencies"
   ],
   "metadata": {}
  },
  {
   "cell_type": "code",
   "execution_count": 66,
   "source": [
    "import json\n",
    "import asyncio\n",
    "import aiohttp\n",
    "import time\n",
    "import os\n",
    "\n",
    "import pandas as pd\n",
    "import numpy as np\n",
    "\n",
    "from setup_nyc_payroll import download_data, read_from_file"
   ],
   "outputs": [],
   "metadata": {}
  },
  {
   "cell_type": "markdown",
   "source": [
    "## Reading payroll data"
   ],
   "metadata": {}
  },
  {
   "cell_type": "code",
   "execution_count": 67,
   "source": [
    "FILENAME = 'nyc_payroll.json'\n",
    "payroll_data = read_from_file(FILENAME)"
   ],
   "outputs": [],
   "metadata": {}
  },
  {
   "cell_type": "markdown",
   "source": [
    "## Filtering out independent variables\n"
   ],
   "metadata": {}
  },
  {
   "cell_type": "code",
   "execution_count": 68,
   "source": [
    "# We are using work_location, regular_hours, and regular_gross_paid to predict title_description\n",
    "\n",
    "df = pd.DataFrame(data=payroll_data)\n",
    "dropped_columns = ['fiscal_year', 'agency_name', 'last_name', 'first_name', 'mid_init', 'payroll_number', 'pay_basis', 'leave_status_as_of_july_31', 'ot_hours', 'total_ot_paid', 'total_other_pay', 'base_salary']\n",
    "df = df.drop(dropped_columns, axis=1)\n",
    "\n",
    "# Convert columns to numeric and removes negative gross paid\n",
    "df[[\"regular_hours\", \"regular_gross_paid\"]] = df[[\"regular_hours\", \"regular_gross_paid\"]].apply(pd.to_numeric)\n",
    "df = df[df.agency_start_date != \"9999-12-31T00:00:00.000\"]\n",
    "df = df[(df[[\"regular_gross_paid\"]] > 0).all(1)]\n",
    "df = df.dropna() "
   ],
   "outputs": [],
   "metadata": {}
  },
  {
   "cell_type": "markdown",
   "source": [
    "## Days Worked feature"
   ],
   "metadata": {}
  },
  {
   "cell_type": "code",
   "execution_count": 69,
   "source": [
    "# TODO: Using agency_start_date to make a feature calculating how long they worked in that position\n",
    "# However for now dropping that feature\n",
    "df = df.drop([\"agency_start_date\"], axis=1)"
   ],
   "outputs": [],
   "metadata": {}
  },
  {
   "cell_type": "markdown",
   "source": [
    "## Setting up X and Y variables"
   ],
   "metadata": {}
  },
  {
   "cell_type": "code",
   "execution_count": 70,
   "source": [
    "# Setting up X and Y\n",
    "X = df.drop([\"title_description\"], axis=1)\n",
    "Y = df.title_description\n"
   ],
   "outputs": [],
   "metadata": {}
  },
  {
   "cell_type": "markdown",
   "source": [
    "# Encoding categorical data"
   ],
   "metadata": {}
  },
  {
   "cell_type": "code",
   "execution_count": null,
   "source": [
    "# We have two categorical data the work_location and title_description"
   ],
   "outputs": [],
   "metadata": {}
  }
 ],
 "metadata": {
  "orig_nbformat": 4,
  "language_info": {
   "name": "python",
   "version": "3.9.6",
   "mimetype": "text/x-python",
   "codemirror_mode": {
    "name": "ipython",
    "version": 3
   },
   "pygments_lexer": "ipython3",
   "nbconvert_exporter": "python",
   "file_extension": ".py"
  },
  "kernelspec": {
   "name": "python3",
   "display_name": "Python 3.9.6 64-bit ('env': venv)"
  },
  "interpreter": {
   "hash": "b46b277caeebf60a98e6286cafe51c9709c5a733e8192678b1e396b3c5d409c6"
  }
 },
 "nbformat": 4,
 "nbformat_minor": 2
}
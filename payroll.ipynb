{
 "cells": [
  {
   "cell_type": "markdown",
   "source": [
    "## Importing dependencies"
   ],
   "metadata": {}
  },
  {
   "cell_type": "code",
   "execution_count": 1,
   "source": [
    "import json\n",
    "import asyncio\n",
    "import aiohttp\n",
    "import time\n",
    "import os\n",
    "\n",
    "from setup_nyc_payroll import download_data, read_from_file"
   ],
   "outputs": [],
   "metadata": {}
  },
  {
   "cell_type": "markdown",
   "source": [
    "## Reading payroll data"
   ],
   "metadata": {}
  },
  {
   "cell_type": "code",
   "execution_count": 4,
   "source": [
    "FILENAME = 'nyc_payroll.json'\n",
    "payroll_data = read_from_file(FILENAME)"
   ],
   "outputs": [],
   "metadata": {}
  },
  {
   "cell_type": "markdown",
   "source": [
    "## Viewing data\n"
   ],
   "metadata": {}
  }
 ],
 "metadata": {
  "orig_nbformat": 4,
  "language_info": {
   "name": "python",
   "version": "3.9.6",
   "mimetype": "text/x-python",
   "codemirror_mode": {
    "name": "ipython",
    "version": 3
   },
   "pygments_lexer": "ipython3",
   "nbconvert_exporter": "python",
   "file_extension": ".py"
  },
  "kernelspec": {
   "name": "python3",
   "display_name": "Python 3.9.6 64-bit ('env': venv)"
  },
  "interpreter": {
   "hash": "b46b277caeebf60a98e6286cafe51c9709c5a733e8192678b1e396b3c5d409c6"
  }
 },
 "nbformat": 4,
 "nbformat_minor": 2
}